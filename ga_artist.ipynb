{
 "cells": [
  {
   "cell_type": "code",
   "execution_count": 11,
   "metadata": {},
   "outputs": [],
   "source": [
    "from skimage.draw import random_shapes\n",
    "from scipy.spatial import distance\n",
    "from PIL import Image\n",
    "import numpy as np"
   ]
  },
  {
   "cell_type": "code",
   "execution_count": 12,
   "metadata": {},
   "outputs": [],
   "source": [
    "class Artist:\n",
    "    def __init__(self, img_path):\n",
    "        \"\"\"\n",
    "        :param img_path: path to input image\n",
    "        \"\"\"\n",
    "        img = Image.open(img_path)\n",
    "        img = np.array(img)\n",
    "        # algorithm works correctly only for input images 512 * 512 pixels\n",
    "        assert img.shape == (512, 512, 3)\n",
    "        print('Use {} as input picture'.format(img_path))\n",
    "        self.fitness_vector = img.reshape((img.shape[0] * img.shape[1] * img.shape[2]))"
   ]
  },
  {
   "cell_type": "code",
   "execution_count": 13,
   "metadata": {},
   "outputs": [],
   "source": [
    "    def reset(self, img_path):\n",
    "        \"\"\"\n",
    "        Reset input image\n",
    "        :param img_path: path to input image\n",
    "        \"\"\"\n",
    "        img = Image.open(img_path)\n",
    "        img = np.array(img)\n",
    "        self.fitness_vector = img.reshape((img.shape[0] * img.shape[1] * img.shape[2]))"
   ]
  },
  {
   "cell_type": "code",
   "execution_count": 14,
   "metadata": {},
   "outputs": [],
   "source": [
    "    def _fitness(self, x) -> int:\n",
    "        \"\"\"\n",
    "        Calculate fitness as pixel-wise euclidean distance\n",
    "        :param x: current state of the new image\n",
    "        :return: euclidean distance between two images\n",
    "        \"\"\"\n",
    "        return distance.euclidean(x, self.fitness_vector)"
   ]
  },
  {
   "cell_type": "code",
   "execution_count": 15,
   "metadata": {},
   "outputs": [],
   "source": [
    "    @staticmethod\n",
    "    def _initial_population(population_size) -> np.array:\n",
    "        \"\"\"\n",
    "        :param population_size: init population size\n",
    "        :return: np.array with shape (population_size, 512*512*3)\n",
    "        \"\"\"\n",
    "        population = random_shapes((512, 512), max_shapes=2, allow_overlap=True, max_size=30,\n",
    "                                   intensity_range=((0, 255), (0, 255), (0, 255)))[0].reshape(512 * 512 * 3)\n",
    "        for i in range(population_size - 1):\n",
    "            population = np.vstack((population, random_shapes((512, 512), max_shapes=2, max_size=30,\n",
    "                                                              allow_overlap=True,\n",
    "                                                              intensity_range=((0, 255), (0, 255), (0, 255)))[\n",
    "                0].reshape(\n",
    "                512 * 512 * 3).T))\n",
    "\n",
    "        return population"
   ]
  },
  {
   "cell_type": "code",
   "execution_count": 16,
   "metadata": {},
   "outputs": [],
   "source": [
    "    def _selection(self, population) -> np.array:\n",
    "        \"\"\"\n",
    "        Select top 2 images from population\n",
    "        :return: top 2 images from population\n",
    "        \"\"\"\n",
    "        costs = np.apply_along_axis(self._fitness, 1, population)\n",
    "        return np.array([population[np.argsort(costs)[:2][0]], population[np.argsort(costs)[:2][1]]])"
   ]
  },
  {
   "cell_type": "code",
   "execution_count": 17,
   "metadata": {},
   "outputs": [],
   "source": [
    "    def _crossover(self, best_examples):\n",
    "        \"\"\"\n",
    "        Copy best images\n",
    "        :param best_examples:\n",
    "        :return: x4 top images\n",
    "        \"\"\"\n",
    "        return np.vstack(([best_examples] * 4))"
   ]
  },
  {
   "cell_type": "code",
   "execution_count": 18,
   "metadata": {},
   "outputs": [],
   "source": [
    "    def _mutation(self, population, learning_rate):\n",
    "        \"\"\"\n",
    "        Throw random shape on the pictures\n",
    "        :param population:\n",
    "        :param learning_rate: regularizes shape sice\n",
    "        :return:\n",
    "        \"\"\"\n",
    "        mutations = random_shapes((512, 512), max_shapes=1, max_size=learning_rate, allow_overlap=True,\n",
    "                                  intensity_range=((0, 255),))[0].reshape(512 * 512 * 3)\n",
    "        for i in range(population.shape[0] - 1):\n",
    "            mutations = np.vstack(\n",
    "                (mutations, random_shapes((512, 512), max_shapes=1, max_size=learning_rate,\n",
    "                                          allow_overlap=True,\n",
    "                                          intensity_range=((0, 255), (0, 255), (0, 255)))[0].reshape(\n",
    "                    512 * 512 * 3).T))\n",
    "\n",
    "        return population + mutations + 1"
   ]
  },
  {
   "cell_type": "code",
   "execution_count": 19,
   "metadata": {},
   "outputs": [],
   "source": [
    "    def draw(self, number_of_epochs=1000, init_population_size=10, drafts: int = False, learning_rate=100, logs=False):\n",
    "        \"\"\"\n",
    "        :param number_of_epochs\n",
    "        :param init_population_size: amount of rows in initial population\n",
    "        :param drafts: print drafts or not\n",
    "        :param learning_rate: controls shape sizes\n",
    "        :return: final image as array ((512, 512, 3))\n",
    "        \"\"\"\n",
    "        population = self._initial_population(init_population_size)\n",
    "        top = self._selection(population)\n",
    "        for i in range(1, number_of_epochs):\n",
    "            top = self._selection(population)\n",
    "            children = self._crossover(top)\n",
    "            noise_children = self._mutation(children, learning_rate)\n",
    "            population = np.vstack((top, noise_children))\n",
    "\n",
    "            if drafts:\n",
    "                if i % drafts == 0:\n",
    "                    my_matrix = top[0].reshape((512, 512, 3))\n",
    "                    img = Image.fromarray(np.uint8(my_matrix))\n",
    "                    img.show()\n",
    "\n",
    "            if learning_rate >= 20:\n",
    "                learning_rate -= 1\n",
    "\n",
    "            if logs:\n",
    "                print('Iteration : {}'.format(i))\n",
    "\n",
    "        return top[0].reshape((512, 512, 3))"
   ]
  },
  {
   "cell_type": "code",
   "execution_count": 10,
   "metadata": {},
   "outputs": [
    {
     "ename": "FileNotFoundError",
     "evalue": "[Errno 2] No such file or directory: 'put_in.jpg'",
     "output_type": "error",
     "traceback": [
      "\u001b[0;31m---------------------------------------------------------------------------\u001b[0m",
      "\u001b[0;31mFileNotFoundError\u001b[0m                         Traceback (most recent call last)",
      "\u001b[0;32m<ipython-input-10-9e939148cd4f>\u001b[0m in \u001b[0;36m<module>\u001b[0;34m\u001b[0m\n\u001b[0;32m----> 1\u001b[0;31m \u001b[0martist\u001b[0m \u001b[0;34m=\u001b[0m \u001b[0mArtist\u001b[0m\u001b[0;34m(\u001b[0m\u001b[0;34m'put_in.jpg'\u001b[0m\u001b[0;34m)\u001b[0m\u001b[0;34m\u001b[0m\u001b[0;34m\u001b[0m\u001b[0m\n\u001b[0m\u001b[1;32m      2\u001b[0m \u001b[0mputin\u001b[0m \u001b[0;34m=\u001b[0m \u001b[0martist\u001b[0m\u001b[0;34m.\u001b[0m\u001b[0mdraw\u001b[0m\u001b[0;34m(\u001b[0m\u001b[0mnumber_of_epochs\u001b[0m\u001b[0;34m=\u001b[0m\u001b[0;36m10000\u001b[0m\u001b[0;34m,\u001b[0m \u001b[0mdrafts\u001b[0m\u001b[0;34m=\u001b[0m\u001b[0;36m500\u001b[0m\u001b[0;34m,\u001b[0m \u001b[0mlogs\u001b[0m\u001b[0;34m=\u001b[0m\u001b[0;32mTrue\u001b[0m\u001b[0;34m)\u001b[0m\u001b[0;34m\u001b[0m\u001b[0;34m\u001b[0m\u001b[0m\n\u001b[1;32m      3\u001b[0m \u001b[0mimg\u001b[0m \u001b[0;34m=\u001b[0m \u001b[0mImage\u001b[0m\u001b[0;34m.\u001b[0m\u001b[0mfromarray\u001b[0m\u001b[0;34m(\u001b[0m\u001b[0mnp\u001b[0m\u001b[0;34m.\u001b[0m\u001b[0muint8\u001b[0m\u001b[0;34m(\u001b[0m\u001b[0mputin\u001b[0m\u001b[0;34m)\u001b[0m\u001b[0;34m)\u001b[0m\u001b[0;34m\u001b[0m\u001b[0;34m\u001b[0m\u001b[0m\n\u001b[1;32m      4\u001b[0m \u001b[0mimg\u001b[0m\u001b[0;34m.\u001b[0m\u001b[0msave\u001b[0m\u001b[0;34m(\u001b[0m\u001b[0;34m'my_putin'\u001b[0m\u001b[0;34m)\u001b[0m\u001b[0;34m\u001b[0m\u001b[0;34m\u001b[0m\u001b[0m\n",
      "\u001b[0;32m<ipython-input-2-81c9257700b1>\u001b[0m in \u001b[0;36m__init__\u001b[0;34m(self, img_path)\u001b[0m\n\u001b[1;32m      1\u001b[0m \u001b[0;32mclass\u001b[0m \u001b[0mArtist\u001b[0m\u001b[0;34m:\u001b[0m\u001b[0;34m\u001b[0m\u001b[0;34m\u001b[0m\u001b[0m\n\u001b[1;32m      2\u001b[0m     \u001b[0;32mdef\u001b[0m \u001b[0m__init__\u001b[0m\u001b[0;34m(\u001b[0m\u001b[0mself\u001b[0m\u001b[0;34m,\u001b[0m \u001b[0mimg_path\u001b[0m\u001b[0;34m)\u001b[0m\u001b[0;34m:\u001b[0m\u001b[0;34m\u001b[0m\u001b[0;34m\u001b[0m\u001b[0m\n\u001b[0;32m----> 3\u001b[0;31m         \u001b[0mimg\u001b[0m \u001b[0;34m=\u001b[0m \u001b[0mImage\u001b[0m\u001b[0;34m.\u001b[0m\u001b[0mopen\u001b[0m\u001b[0;34m(\u001b[0m\u001b[0mimg_path\u001b[0m\u001b[0;34m)\u001b[0m\u001b[0;34m\u001b[0m\u001b[0;34m\u001b[0m\u001b[0m\n\u001b[0m\u001b[1;32m      4\u001b[0m         \u001b[0mimg\u001b[0m \u001b[0;34m=\u001b[0m \u001b[0mnp\u001b[0m\u001b[0;34m.\u001b[0m\u001b[0marray\u001b[0m\u001b[0;34m(\u001b[0m\u001b[0mimg\u001b[0m\u001b[0;34m)\u001b[0m\u001b[0;34m\u001b[0m\u001b[0;34m\u001b[0m\u001b[0m\n\u001b[1;32m      5\u001b[0m         \u001b[0;31m# algorithm works correctly only for input images 512 * 512 pixels\u001b[0m\u001b[0;34m\u001b[0m\u001b[0;34m\u001b[0m\u001b[0;34m\u001b[0m\u001b[0m\n",
      "\u001b[0;32m/anaconda3/lib/python3.7/site-packages/PIL/Image.py\u001b[0m in \u001b[0;36mopen\u001b[0;34m(fp, mode)\u001b[0m\n\u001b[1;32m   2607\u001b[0m \u001b[0;34m\u001b[0m\u001b[0m\n\u001b[1;32m   2608\u001b[0m     \u001b[0;32mif\u001b[0m \u001b[0mfilename\u001b[0m\u001b[0;34m:\u001b[0m\u001b[0;34m\u001b[0m\u001b[0;34m\u001b[0m\u001b[0m\n\u001b[0;32m-> 2609\u001b[0;31m         \u001b[0mfp\u001b[0m \u001b[0;34m=\u001b[0m \u001b[0mbuiltins\u001b[0m\u001b[0;34m.\u001b[0m\u001b[0mopen\u001b[0m\u001b[0;34m(\u001b[0m\u001b[0mfilename\u001b[0m\u001b[0;34m,\u001b[0m \u001b[0;34m\"rb\"\u001b[0m\u001b[0;34m)\u001b[0m\u001b[0;34m\u001b[0m\u001b[0;34m\u001b[0m\u001b[0m\n\u001b[0m\u001b[1;32m   2610\u001b[0m         \u001b[0mexclusive_fp\u001b[0m \u001b[0;34m=\u001b[0m \u001b[0;32mTrue\u001b[0m\u001b[0;34m\u001b[0m\u001b[0;34m\u001b[0m\u001b[0m\n\u001b[1;32m   2611\u001b[0m \u001b[0;34m\u001b[0m\u001b[0m\n",
      "\u001b[0;31mFileNotFoundError\u001b[0m: [Errno 2] No such file or directory: 'put_in.jpg'"
     ]
    }
   ],
   "source": [
    "artist = Artist('put_in.jpg')\n",
    "putin = artist.draw(number_of_epochs=1000, drafts=500, logs=True)\n",
    "img = Image.fromarray(np.uint8(putin))\n",
    "img.save('my_putin')"
   ]
  },
  {
   "cell_type": "code",
   "execution_count": null,
   "metadata": {},
   "outputs": [],
   "source": []
  }
 ],
 "metadata": {
  "kernelspec": {
   "display_name": "Python 3",
   "language": "python",
   "name": "python3"
  },
  "language_info": {
   "codemirror_mode": {
    "name": "ipython",
    "version": 3
   },
   "file_extension": ".py",
   "mimetype": "text/x-python",
   "name": "python",
   "nbconvert_exporter": "python",
   "pygments_lexer": "ipython3",
   "version": "3.7.1"
  }
 },
 "nbformat": 4,
 "nbformat_minor": 2
}
